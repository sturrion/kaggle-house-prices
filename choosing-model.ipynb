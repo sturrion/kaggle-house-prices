{
 "cells": [
  {
   "cell_type": "code",
   "execution_count": 47,
   "metadata": {},
   "outputs": [],
   "source": [
    "train_file = './input/train.csv'\n",
    "test_file = './input/test.csv'\n",
    "\n",
    "col_id = 'Id'\n",
    "col_prediction = 'SalePrice'"
   ]
  },
  {
   "cell_type": "code",
   "execution_count": 48,
   "metadata": {},
   "outputs": [],
   "source": [
    "import pandas as pd\n",
    "import numpy as np\n",
    "\n",
    "from sklearn.model_selection import train_test_split"
   ]
  },
  {
   "cell_type": "code",
   "execution_count": 49,
   "metadata": {},
   "outputs": [
    {
     "data": {
      "text/plain": [
       "(1460, 290)"
      ]
     },
     "execution_count": 49,
     "metadata": {},
     "output_type": "execute_result"
    }
   ],
   "source": [
    "df_train_file = pd.read_csv(train_file)\n",
    "df_test_file = pd.read_csv(test_file)\n",
    "\n",
    "df_train = pd.get_dummies(df_train_file)\n",
    "df_test = pd.get_dummies(df_test_file)\n",
    "\n",
    "train_columns = df_train.columns.drop([col_prediction, col_id])\n",
    "\n",
    "# null values\n",
    "df_train['GarageYrBlt'] = df_train['GarageYrBlt'].fillna(0)\n",
    "df_test['GarageYrBlt'] = df_test['GarageYrBlt'].fillna(0)\n",
    "df_train = df_train.fillna(df_train.mean())\n",
    "df_test = df_test.fillna(df_test.mean())\n",
    "\n",
    "X = df_train[train_columns]\n",
    "y = df_train[col_prediction]\n",
    "\n",
    "X_train, X_test, y_train, y_test = train_test_split(X, y, random_state = 0)\n",
    "df_train.shape"
   ]
  },
  {
   "cell_type": "code",
   "execution_count": 50,
   "metadata": {},
   "outputs": [],
   "source": [
    "# test dataframe\n",
    "df_test = df_test.set_index(col_id)\n",
    "\n",
    "add_cols = ['Utilities_NoSeWa', 'Condition2_RRAe', 'Condition2_RRAn', 'Condition2_RRNn', \n",
    "        'HouseStyle_2.5Fin', 'RoofMatl_ClyTile', 'RoofMatl_Membran', 'RoofMatl_Metal', \n",
    "        'RoofMatl_Roll', 'Exterior1st_ImStucc', 'Exterior1st_Stone', 'Exterior2nd_Other',\n",
    "        'Heating_Floor', 'Heating_OthW', 'Electrical_Mix', 'GarageQual_Ex',\n",
    "        'PoolQC_Fa', 'MiscFeature_TenC']\n",
    "\n",
    "for column in add_cols:\n",
    "    df_test[column] = 0"
   ]
  },
  {
   "cell_type": "code",
   "execution_count": 51,
   "metadata": {},
   "outputs": [
    {
     "name": "stderr",
     "output_type": "stream",
     "text": [
      "/home/silvia/.local/lib/python3.6/site-packages/sklearn/preprocessing/data.py:323: DataConversionWarning: Data with input dtype uint8, int64, float64 were all converted to float64 by MinMaxScaler.\n",
      "  return self.partial_fit(X, y)\n"
     ]
    }
   ],
   "source": [
    "# test scaled\n",
    "from sklearn.preprocessing import MinMaxScaler\n",
    "scaler = MinMaxScaler()\n",
    "\n",
    "df_test_scaled = scaler.fit_transform(df_test)\n"
   ]
  },
  {
   "cell_type": "code",
   "execution_count": 52,
   "metadata": {},
   "outputs": [
    {
     "data": {
      "text/plain": [
       "(1459, 288)"
      ]
     },
     "execution_count": 52,
     "metadata": {},
     "output_type": "execute_result"
    }
   ],
   "source": [
    "df_test.shape"
   ]
  },
  {
   "cell_type": "code",
   "execution_count": 53,
   "metadata": {},
   "outputs": [
    {
     "data": {
      "text/plain": [
       "Series([], dtype: int64)"
      ]
     },
     "execution_count": 53,
     "metadata": {},
     "output_type": "execute_result"
    }
   ],
   "source": [
    "nulos = df_train.isnull().sum()\n",
    "nulos[nulos > 0]"
   ]
  },
  {
   "cell_type": "code",
   "execution_count": 54,
   "metadata": {},
   "outputs": [
    {
     "data": {
      "text/plain": [
       "Series([], dtype: int64)"
      ]
     },
     "execution_count": 54,
     "metadata": {},
     "output_type": "execute_result"
    }
   ],
   "source": [
    "nulos = df_test.isnull().sum()\n",
    "nulos[nulos > 0]"
   ]
  },
  {
   "cell_type": "markdown",
   "metadata": {},
   "source": [
    "# Linear models for regression"
   ]
  },
  {
   "cell_type": "markdown",
   "metadata": {},
   "source": [
    "## Linear regression"
   ]
  },
  {
   "cell_type": "code",
   "execution_count": 59,
   "metadata": {},
   "outputs": [
    {
     "data": {
      "text/plain": [
       "(1095, 288)"
      ]
     },
     "execution_count": 59,
     "metadata": {},
     "output_type": "execute_result"
    }
   ],
   "source": [
    "X_train[train_columns].shape"
   ]
  },
  {
   "cell_type": "code",
   "execution_count": 61,
   "metadata": {},
   "outputs": [
    {
     "data": {
      "text/plain": [
       "(1095, 14)"
      ]
     },
     "execution_count": 61,
     "metadata": {},
     "output_type": "execute_result"
    }
   ],
   "source": [
    "X_train[filtered_train_columns].shape"
   ]
  },
  {
   "cell_type": "code",
   "execution_count": 62,
   "metadata": {},
   "outputs": [
    {
     "data": {
      "text/plain": [
       "(1095, 288)"
      ]
     },
     "execution_count": 62,
     "metadata": {},
     "output_type": "execute_result"
    }
   ],
   "source": [
    "X_train.shape"
   ]
  },
  {
   "cell_type": "code",
   "execution_count": 63,
   "metadata": {},
   "outputs": [
    {
     "name": "stdout",
     "output_type": "stream",
     "text": [
      "R-squared score (training): 0.94522 R-squared score (test): 0.54777 \n",
      "R-squared score (training): 0.83090 R-squared score (test): 0.70776 \n"
     ]
    }
   ],
   "source": [
    "from sklearn.linear_model import LinearRegression\n",
    "\n",
    "linreg = LinearRegression().fit(X_train[train_columns], y_train)\n",
    "\n",
    "print('R-squared score (training): {:.5f} R-squared score (test): {:.5f} '\n",
    "      .format(linreg.score(X_train, y_train), linreg.score(X_test, y_test)))\n"
   ]
  },
  {
   "cell_type": "markdown",
   "metadata": {},
   "source": [
    "## Ridge regression"
   ]
  },
  {
   "cell_type": "code",
   "execution_count": 65,
   "metadata": {},
   "outputs": [
    {
     "name": "stdout",
     "output_type": "stream",
     "text": [
      "alpha 0.1\n",
      "R-squared score (training): 0.94479 R-squared score (test): 0.56662 \n",
      "Number of non-zero features: 282 \n",
      "\n",
      "alpha 1\n",
      "R-squared score (training): 0.93783 R-squared score (test): 0.67662 \n",
      "Number of non-zero features: 282 \n",
      "\n",
      "alpha 10\n",
      "R-squared score (training): 0.91944 R-squared score (test): 0.74588 \n",
      "Number of non-zero features: 282 \n",
      "\n",
      "alpha 20\n",
      "R-squared score (training): 0.91266 R-squared score (test): 0.74757 \n",
      "Number of non-zero features: 282 \n",
      "\n",
      "alpha 50\n",
      "R-squared score (training): 0.90214 R-squared score (test): 0.73943 \n",
      "Number of non-zero features: 282 \n",
      "\n",
      "alpha 100\n",
      "R-squared score (training): 0.89290 R-squared score (test): 0.72762 \n",
      "Number of non-zero features: 282 \n",
      "\n",
      "alpha 150\n",
      "R-squared score (training): 0.88696 R-squared score (test): 0.71927 \n",
      "Number of non-zero features: 282 \n",
      "\n",
      "alpha 500\n",
      "R-squared score (training): 0.86595 R-squared score (test): 0.68959 \n",
      "Number of non-zero features: 282 \n",
      "\n",
      "alpha 0.1\n",
      "R-squared score (training): 0.83090 R-squared score (test): 0.70776 \n",
      "Number of non-zero features: 14 \n",
      "\n",
      "alpha 1\n",
      "R-squared score (training): 0.83090 R-squared score (test): 0.70771 \n",
      "Number of non-zero features: 14 \n",
      "\n",
      "alpha 10\n",
      "R-squared score (training): 0.83055 R-squared score (test): 0.70699 \n",
      "Number of non-zero features: 14 \n",
      "\n",
      "alpha 20\n",
      "R-squared score (training): 0.82977 R-squared score (test): 0.70583 \n",
      "Number of non-zero features: 14 \n",
      "\n",
      "alpha 50\n",
      "R-squared score (training): 0.82668 R-squared score (test): 0.70173 \n",
      "Number of non-zero features: 14 \n",
      "\n",
      "alpha 100\n",
      "R-squared score (training): 0.82187 R-squared score (test): 0.69536 \n",
      "Number of non-zero features: 14 \n",
      "\n",
      "alpha 150\n",
      "R-squared score (training): 0.81811 R-squared score (test): 0.69010 \n",
      "Number of non-zero features: 14 \n",
      "\n",
      "alpha 500\n",
      "R-squared score (training): 0.80421 R-squared score (test): 0.66772 \n",
      "Number of non-zero features: 14 \n",
      "\n"
     ]
    }
   ],
   "source": [
    "from sklearn.linear_model import Ridge\n",
    "\n",
    "for alpha in [0.1, 1, 10, 20, 50, 100, 150, 500]:\n",
    "    linridge1 = Ridge(alpha=alpha).fit(X_train, y_train)\n",
    "    print('alpha', alpha)\n",
    "    \n",
    "    print('R-squared score (training): {:.5f} R-squared score (test): {:.5f} '\n",
    "      .format(linridge1.score(X_train, y_train), linridge1.score(X_test, y_test)))\n",
    "    print('Number of non-zero features: {} \\n'.format(np.sum(linridge1.coef_ != 0)))\n",
    "    \n",
    "#linridge1 = Ridge(alpha=50.0).fit(X_train, y_train)"
   ]
  },
  {
   "cell_type": "markdown",
   "metadata": {},
   "source": [
    "### Ridge regression with feature normalization"
   ]
  },
  {
   "cell_type": "code",
   "execution_count": 11,
   "metadata": {},
   "outputs": [
    {
     "name": "stdout",
     "output_type": "stream",
     "text": [
      "alpha 0.1\n",
      "R-squared score (training): 0.94466 R-squared score (test): 0.57041 \n",
      "Number of non-zero features: 282 \n",
      "\n",
      "alpha 1\n",
      "R-squared score (training): 0.93612 R-squared score (test): 0.69075 \n",
      "Number of non-zero features: 282 \n",
      "\n",
      "alpha 10\n",
      "R-squared score (training): 0.91067 R-squared score (test): 0.77655 \n",
      "Number of non-zero features: 282 \n",
      "\n",
      "alpha 20\n",
      "R-squared score (training): 0.89685 R-squared score (test): 0.78415 \n",
      "Number of non-zero features: 282 \n",
      "\n",
      "alpha 50\n",
      "R-squared score (training): 0.86704 R-squared score (test): 0.77821 \n",
      "Number of non-zero features: 282 \n",
      "\n",
      "alpha 100\n",
      "R-squared score (training): 0.83173 R-squared score (test): 0.75805 \n",
      "Number of non-zero features: 282 \n",
      "\n",
      "alpha 150\n",
      "R-squared score (training): 0.80470 R-squared score (test): 0.73869 \n",
      "Number of non-zero features: 282 \n",
      "\n",
      "alpha 500\n",
      "R-squared score (training): 0.68987 R-squared score (test): 0.64126 \n",
      "Number of non-zero features: 282 \n",
      "\n"
     ]
    },
    {
     "name": "stderr",
     "output_type": "stream",
     "text": [
      "/home/silvia/.local/lib/python3.6/site-packages/sklearn/preprocessing/data.py:323: DataConversionWarning: Data with input dtype uint8, int64, float64 were all converted to float64 by MinMaxScaler.\n",
      "  return self.partial_fit(X, y)\n"
     ]
    }
   ],
   "source": [
    "from sklearn.preprocessing import MinMaxScaler\n",
    "scaler = MinMaxScaler()\n",
    "\n",
    "from sklearn.linear_model import Ridge\n",
    "\n",
    "X_train_scaled = scaler.fit_transform(X_train)\n",
    "X_test_scaled = scaler.transform(X_test)\n",
    "\n",
    "for alpha in [0.1, 1, 10, 20, 50, 100, 150, 500]:\n",
    "    print('alpha', alpha)\n",
    "    linridge2 = Ridge(alpha=alpha).fit(X_train_scaled, y_train)\n",
    "    \n",
    "    print('R-squared score (training): {:.5f} R-squared score (test): {:.5f} '\n",
    "      .format(linridge2.score(X_train_scaled, y_train), linridge2.score(X_test_scaled, y_test)))\n",
    "\n",
    "    print('Number of non-zero features: {} \\n'.format(np.sum(linridge2.coef_ != 0)))\n",
    "\n",
    "#linridge2 = Ridge(alpha=20.0).fit(X_train_scaled, y_train)"
   ]
  },
  {
   "cell_type": "markdown",
   "metadata": {},
   "source": [
    "### Ridge regression with regularization parameter: alpha"
   ]
  },
  {
   "cell_type": "code",
   "execution_count": 12,
   "metadata": {},
   "outputs": [
    {
     "name": "stdout",
     "output_type": "stream",
     "text": [
      "Alpha = 0.00\n",
      "num abs(coeff) > 1.0: 288, r-squared training: 0.93, r-squared test: -190941787041579422019747840.00\n",
      "\n",
      "Alpha = 1.00\n",
      "num abs(coeff) > 1.0: 282, r-squared training: 0.94, r-squared test: 0.69\n",
      "\n",
      "Alpha = 10.00\n",
      "num abs(coeff) > 1.0: 282, r-squared training: 0.91, r-squared test: 0.78\n",
      "\n",
      "Alpha = 20.00\n",
      "num abs(coeff) > 1.0: 282, r-squared training: 0.90, r-squared test: 0.78\n",
      "\n",
      "Alpha = 50.00\n",
      "num abs(coeff) > 1.0: 281, r-squared training: 0.87, r-squared test: 0.78\n",
      "\n",
      "Alpha = 100.00\n",
      "num abs(coeff) > 1.0: 281, r-squared training: 0.83, r-squared test: 0.76\n",
      "\n",
      "Alpha = 1000.00\n",
      "num abs(coeff) > 1.0: 281, r-squared training: 0.60, r-squared test: 0.56\n",
      "\n",
      "Alpha = 5000.00\n",
      "num abs(coeff) > 1.0: 280, r-squared training: 0.31, r-squared test: 0.29\n",
      "\n"
     ]
    }
   ],
   "source": [
    "for this_alpha in [0, 1, 10, 20, 50, 100, 1000, 5000]:\n",
    "    linridge3 = Ridge(alpha = this_alpha).fit(X_train_scaled, y_train)\n",
    "    r2_train = linridge3.score(X_train_scaled, y_train)\n",
    "    r2_test = linridge3.score(X_test_scaled, y_test)\n",
    "    num_coeff_bigger = np.sum(abs(linridge3.coef_) > 1.0)\n",
    "    print('Alpha = {:.2f}\\nnum abs(coeff) > 1.0: {}, r-squared training: {:.2f}, r-squared test: {:.2f}\\n'\n",
    "          .format(this_alpha, num_coeff_bigger, r2_train, r2_test))"
   ]
  },
  {
   "cell_type": "markdown",
   "metadata": {},
   "source": [
    "## Lasso regression"
   ]
  },
  {
   "cell_type": "code",
   "execution_count": 16,
   "metadata": {},
   "outputs": [
    {
     "name": "stderr",
     "output_type": "stream",
     "text": [
      "/home/silvia/.local/lib/python3.6/site-packages/sklearn/preprocessing/data.py:323: DataConversionWarning: Data with input dtype uint8, int64, float64 were all converted to float64 by MinMaxScaler.\n",
      "  return self.partial_fit(X, y)\n",
      "/home/silvia/.local/lib/python3.6/site-packages/sklearn/linear_model/coordinate_descent.py:492: ConvergenceWarning: Objective did not converge. You might want to increase the number of iterations. Fitting data with very small alpha may cause precision problems.\n",
      "  ConvergenceWarning)\n"
     ]
    },
    {
     "name": "stdout",
     "output_type": "stream",
     "text": [
      "\n",
      " alpha 0.1 max_iter 100\n",
      "Non-zero features: 279\n",
      "R-squared score (training): 0.94517 R-squared score (test): 0.55973 \n"
     ]
    },
    {
     "name": "stderr",
     "output_type": "stream",
     "text": [
      "/home/silvia/.local/lib/python3.6/site-packages/sklearn/linear_model/coordinate_descent.py:492: ConvergenceWarning: Objective did not converge. You might want to increase the number of iterations. Fitting data with very small alpha may cause precision problems.\n",
      "  ConvergenceWarning)\n"
     ]
    },
    {
     "name": "stdout",
     "output_type": "stream",
     "text": [
      "\n",
      " alpha 0.1 max_iter 1000\n",
      "Non-zero features: 276\n",
      "R-squared score (training): 0.94521 R-squared score (test): 0.57023 \n"
     ]
    },
    {
     "name": "stderr",
     "output_type": "stream",
     "text": [
      "/home/silvia/.local/lib/python3.6/site-packages/sklearn/linear_model/coordinate_descent.py:492: ConvergenceWarning: Objective did not converge. You might want to increase the number of iterations. Fitting data with very small alpha may cause precision problems.\n",
      "  ConvergenceWarning)\n"
     ]
    },
    {
     "name": "stdout",
     "output_type": "stream",
     "text": [
      "\n",
      " alpha 0.1 max_iter 10000\n",
      "Non-zero features: 263\n",
      "R-squared score (training): 0.94522 R-squared score (test): 0.58429 \n",
      "\n",
      " alpha 0.1 max_iter 20000\n",
      "Non-zero features: 262\n",
      "R-squared score (training): 0.94522 R-squared score (test): 0.58429 \n",
      "\n",
      " alpha 1.0 max_iter 100\n",
      "Non-zero features: 275\n",
      "R-squared score (training): 0.94512 R-squared score (test): 0.56728 \n"
     ]
    },
    {
     "name": "stderr",
     "output_type": "stream",
     "text": [
      "/home/silvia/.local/lib/python3.6/site-packages/sklearn/linear_model/coordinate_descent.py:492: ConvergenceWarning: Objective did not converge. You might want to increase the number of iterations. Fitting data with very small alpha may cause precision problems.\n",
      "  ConvergenceWarning)\n"
     ]
    },
    {
     "name": "stdout",
     "output_type": "stream",
     "text": [
      "\n",
      " alpha 1.0 max_iter 1000\n",
      "Non-zero features: 260\n",
      "R-squared score (training): 0.94515 R-squared score (test): 0.57980 \n",
      "\n",
      " alpha 1.0 max_iter 10000\n",
      "Non-zero features: 260\n",
      "R-squared score (training): 0.94515 R-squared score (test): 0.57980 \n",
      "\n",
      " alpha 1.0 max_iter 20000\n",
      "Non-zero features: 260\n",
      "R-squared score (training): 0.94515 R-squared score (test): 0.57980 \n",
      "\n",
      " alpha 2.0 max_iter 100\n",
      "Non-zero features: 267\n",
      "R-squared score (training): 0.94503 R-squared score (test): 0.57954 \n"
     ]
    },
    {
     "name": "stderr",
     "output_type": "stream",
     "text": [
      "/home/silvia/.local/lib/python3.6/site-packages/sklearn/linear_model/coordinate_descent.py:492: ConvergenceWarning: Objective did not converge. You might want to increase the number of iterations. Fitting data with very small alpha may cause precision problems.\n",
      "  ConvergenceWarning)\n"
     ]
    },
    {
     "name": "stdout",
     "output_type": "stream",
     "text": [
      "\n",
      " alpha 2.0 max_iter 1000\n",
      "Non-zero features: 253\n",
      "R-squared score (training): 0.94506 R-squared score (test): 0.58461 \n",
      "\n",
      " alpha 2.0 max_iter 10000\n",
      "Non-zero features: 253\n",
      "R-squared score (training): 0.94506 R-squared score (test): 0.58461 \n",
      "\n",
      " alpha 2.0 max_iter 20000\n",
      "Non-zero features: 253\n",
      "R-squared score (training): 0.94506 R-squared score (test): 0.58461 \n",
      "\n",
      " alpha 10 max_iter 100\n",
      "Non-zero features: 224\n",
      "R-squared score (training): 0.94349 R-squared score (test): 0.61487 \n"
     ]
    },
    {
     "name": "stderr",
     "output_type": "stream",
     "text": [
      "/home/silvia/.local/lib/python3.6/site-packages/sklearn/linear_model/coordinate_descent.py:492: ConvergenceWarning: Objective did not converge. You might want to increase the number of iterations. Fitting data with very small alpha may cause precision problems.\n",
      "  ConvergenceWarning)\n"
     ]
    },
    {
     "name": "stdout",
     "output_type": "stream",
     "text": [
      "\n",
      " alpha 10 max_iter 1000\n",
      "Non-zero features: 220\n",
      "R-squared score (training): 0.94348 R-squared score (test): 0.61488 \n",
      "\n",
      " alpha 10 max_iter 10000\n",
      "Non-zero features: 223\n",
      "R-squared score (training): 0.94350 R-squared score (test): 0.61401 \n",
      "\n",
      " alpha 10 max_iter 20000\n",
      "Non-zero features: 223\n",
      "R-squared score (training): 0.94350 R-squared score (test): 0.61401 \n",
      "\n",
      " alpha 20 max_iter 100\n",
      "Non-zero features: 190\n",
      "R-squared score (training): 0.94066 R-squared score (test): 0.64221 \n"
     ]
    },
    {
     "name": "stderr",
     "output_type": "stream",
     "text": [
      "/home/silvia/.local/lib/python3.6/site-packages/sklearn/linear_model/coordinate_descent.py:492: ConvergenceWarning: Objective did not converge. You might want to increase the number of iterations. Fitting data with very small alpha may cause precision problems.\n",
      "  ConvergenceWarning)\n"
     ]
    },
    {
     "name": "stdout",
     "output_type": "stream",
     "text": [
      "\n",
      " alpha 20 max_iter 1000\n",
      "Non-zero features: 187\n",
      "R-squared score (training): 0.94076 R-squared score (test): 0.63960 \n",
      "\n",
      " alpha 20 max_iter 10000\n",
      "Non-zero features: 187\n",
      "R-squared score (training): 0.94076 R-squared score (test): 0.63960 \n",
      "\n",
      " alpha 20 max_iter 20000\n",
      "Non-zero features: 187\n",
      "R-squared score (training): 0.94076 R-squared score (test): 0.63960 \n",
      "\n",
      " alpha 50 max_iter 100\n",
      "Non-zero features: 142\n",
      "R-squared score (training): 0.93464 R-squared score (test): 0.70367 \n"
     ]
    },
    {
     "name": "stderr",
     "output_type": "stream",
     "text": [
      "/home/silvia/.local/lib/python3.6/site-packages/sklearn/linear_model/coordinate_descent.py:492: ConvergenceWarning: Objective did not converge. You might want to increase the number of iterations. Fitting data with very small alpha may cause precision problems.\n",
      "  ConvergenceWarning)\n"
     ]
    },
    {
     "name": "stdout",
     "output_type": "stream",
     "text": [
      "\n",
      " alpha 50 max_iter 1000\n",
      "Non-zero features: 141\n",
      "R-squared score (training): 0.93453 R-squared score (test): 0.70248 \n",
      "\n",
      " alpha 50 max_iter 10000\n",
      "Non-zero features: 141\n",
      "R-squared score (training): 0.93453 R-squared score (test): 0.70248 \n",
      "\n",
      " alpha 50 max_iter 20000\n",
      "Non-zero features: 141\n",
      "R-squared score (training): 0.93453 R-squared score (test): 0.70248 \n",
      "\n",
      " alpha 100 max_iter 100\n",
      "Non-zero features: 100\n",
      "R-squared score (training): 0.92535 R-squared score (test): 0.74897 \n"
     ]
    },
    {
     "name": "stderr",
     "output_type": "stream",
     "text": [
      "/home/silvia/.local/lib/python3.6/site-packages/sklearn/linear_model/coordinate_descent.py:492: ConvergenceWarning: Objective did not converge. You might want to increase the number of iterations. Fitting data with very small alpha may cause precision problems.\n",
      "  ConvergenceWarning)\n"
     ]
    },
    {
     "name": "stdout",
     "output_type": "stream",
     "text": [
      "\n",
      " alpha 100 max_iter 1000\n",
      "Non-zero features: 96\n",
      "R-squared score (training): 0.92525 R-squared score (test): 0.74823 \n",
      "\n",
      " alpha 100 max_iter 10000\n",
      "Non-zero features: 96\n",
      "R-squared score (training): 0.92525 R-squared score (test): 0.74823 \n",
      "\n",
      " alpha 100 max_iter 20000\n",
      "Non-zero features: 96\n",
      "R-squared score (training): 0.92525 R-squared score (test): 0.74823 \n",
      "\n",
      " alpha 150 max_iter 100\n",
      "Non-zero features: 83\n",
      "R-squared score (training): 0.91836 R-squared score (test): 0.76610 \n",
      "\n",
      " alpha 150 max_iter 1000\n",
      "Non-zero features: 81\n",
      "R-squared score (training): 0.91833 R-squared score (test): 0.76581 \n"
     ]
    },
    {
     "name": "stderr",
     "output_type": "stream",
     "text": [
      "/home/silvia/.local/lib/python3.6/site-packages/sklearn/linear_model/coordinate_descent.py:492: ConvergenceWarning: Objective did not converge. You might want to increase the number of iterations. Fitting data with very small alpha may cause precision problems.\n",
      "  ConvergenceWarning)\n"
     ]
    },
    {
     "name": "stdout",
     "output_type": "stream",
     "text": [
      "\n",
      " alpha 150 max_iter 10000\n",
      "Non-zero features: 81\n",
      "R-squared score (training): 0.91833 R-squared score (test): 0.76581 \n",
      "\n",
      " alpha 150 max_iter 20000\n",
      "Non-zero features: 81\n",
      "R-squared score (training): 0.91833 R-squared score (test): 0.76581 \n",
      "\n",
      " alpha 500 max_iter 100\n",
      "Non-zero features: 49\n",
      "R-squared score (training): 0.87645 R-squared score (test): 0.78154 \n",
      "\n",
      " alpha 500 max_iter 1000\n",
      "Non-zero features: 49\n",
      "R-squared score (training): 0.87645 R-squared score (test): 0.78154 \n",
      "\n",
      " alpha 500 max_iter 10000\n",
      "Non-zero features: 49\n",
      "R-squared score (training): 0.87645 R-squared score (test): 0.78154 \n",
      "\n",
      " alpha 500 max_iter 20000\n",
      "Non-zero features: 49\n",
      "R-squared score (training): 0.87645 R-squared score (test): 0.78154 \n",
      "\n",
      " alpha 1000 max_iter 100\n",
      "Non-zero features: 33\n",
      "R-squared score (training): 0.84924 R-squared score (test): 0.77779 \n",
      "\n",
      " alpha 1000 max_iter 1000\n",
      "Non-zero features: 33\n",
      "R-squared score (training): 0.84924 R-squared score (test): 0.77779 \n",
      "\n",
      " alpha 1000 max_iter 10000\n",
      "Non-zero features: 33\n",
      "R-squared score (training): 0.84924 R-squared score (test): 0.77779 \n",
      "\n",
      " alpha 1000 max_iter 20000\n",
      "Non-zero features: 33\n",
      "R-squared score (training): 0.84924 R-squared score (test): 0.77779 \n",
      "\n",
      " alpha 5000 max_iter 100\n",
      "Non-zero features: 17\n",
      "R-squared score (training): 0.52966 R-squared score (test): 0.52858 \n",
      "\n",
      " alpha 5000 max_iter 1000\n",
      "Non-zero features: 17\n",
      "R-squared score (training): 0.52966 R-squared score (test): 0.52858 \n",
      "\n",
      " alpha 5000 max_iter 10000\n",
      "Non-zero features: 17\n",
      "R-squared score (training): 0.52966 R-squared score (test): 0.52858 \n",
      "\n",
      " alpha 5000 max_iter 20000\n",
      "Non-zero features: 17\n",
      "R-squared score (training): 0.52966 R-squared score (test): 0.52858 \n"
     ]
    }
   ],
   "source": [
    "# from sklearn.linear_model import Lasso\n",
    "from sklearn.preprocessing import MinMaxScaler\n",
    "scaler = MinMaxScaler()\n",
    "\n",
    "from sklearn.linear_model import Lasso\n",
    "\n",
    "X_train_scaled = scaler.fit_transform(X_train)\n",
    "X_test_scaled = scaler.transform(X_test)\n",
    "\n",
    "for alpha in [0.1, 1.0, 2.0, 10, 20, 50, 100, 150, 500, 1000, 5000]:\n",
    "    for max_iter in [100, 1000, 10000, 20000]:\n",
    "        linlasso = Lasso(alpha=alpha, max_iter = max_iter).fit(X_train_scaled, y_train)\n",
    "        print('\\n', 'alpha', alpha, 'max_iter', max_iter)\n",
    "        #print('lasso regression linear model intercept: {}'.format(linlasso.intercept_))\n",
    "        #print('lasso regression linear model coeff:\\n{}'.format(linlasso.coef_))\n",
    "        print('Non-zero features: {}'.format(np.sum(linlasso.coef_ != 0)))\n",
    "        \n",
    "        print('R-squared score (training): {:.5f} R-squared score (test): {:.5f} '\n",
    "              .format(linlasso.score(X_train_scaled, y_train), linlasso.score(X_test_scaled, y_test)))\n",
    "\n",
    "        #print('Features with non-zero weight (sorted by absolute magnitude):')\n",
    "        #for e in sorted (list(zip(list(X), linlasso.coef_)), key = lambda e: -abs(e[1])):\n",
    "        #    if e[1] != 0:\n",
    "        #        print('\\t{}, {:.3f}'.format(e[0], e[1]))"
   ]
  },
  {
   "cell_type": "code",
   "execution_count": 17,
   "metadata": {},
   "outputs": [
    {
     "name": "stdout",
     "output_type": "stream",
     "text": [
      "Alpha = 0.50\n",
      "Features kept: 262, r-squared training: 0.95, r-squared test: 0.58\n",
      "\n",
      "Alpha = 1.00\n",
      "Features kept: 260, r-squared training: 0.95, r-squared test: 0.58\n",
      "\n",
      "Alpha = 2.00\n",
      "Features kept: 253, r-squared training: 0.95, r-squared test: 0.58\n",
      "\n",
      "Alpha = 3.00\n",
      "Features kept: 250, r-squared training: 0.94, r-squared test: 0.59\n",
      "\n",
      "Alpha = 5.00\n",
      "Features kept: 242, r-squared training: 0.94, r-squared test: 0.60\n",
      "\n",
      "Alpha = 10.00\n",
      "Features kept: 223, r-squared training: 0.94, r-squared test: 0.61\n",
      "\n",
      "Alpha = 20.00\n",
      "Features kept: 187, r-squared training: 0.94, r-squared test: 0.64\n",
      "\n",
      "Alpha = 50.00\n",
      "Features kept: 141, r-squared training: 0.93, r-squared test: 0.70\n",
      "\n",
      "Alpha = 100.00\n",
      "Features kept: 96, r-squared training: 0.93, r-squared test: 0.75\n",
      "\n",
      "Alpha = 150.00\n",
      "Features kept: 81, r-squared training: 0.92, r-squared test: 0.77\n",
      "\n",
      "Alpha = 500.00\n",
      "Features kept: 49, r-squared training: 0.88, r-squared test: 0.78\n",
      "\n",
      "Alpha = 1000.00\n",
      "Features kept: 33, r-squared training: 0.85, r-squared test: 0.78\n",
      "\n"
     ]
    }
   ],
   "source": [
    "for alpha in [0.5, 1, 2, 3, 5, 10, 20, 50, 100, 150, 500, 1000]:\n",
    "    linlasso2 = Lasso(alpha, max_iter = 10000).fit(X_train_scaled, y_train)\n",
    "    r2_train = linlasso2.score(X_train_scaled, y_train)\n",
    "    r2_test = linlasso2.score(X_test_scaled, y_test)\n",
    "    \n",
    "    print('Alpha = {:.2f}\\nFeatures kept: {}, r-squared training: {:.2f}, r-squared test: {:.2f}\\n'\n",
    "          .format(alpha, np.sum(linlasso2.coef_ != 0), r2_train, r2_test))"
   ]
  },
  {
   "cell_type": "markdown",
   "metadata": {},
   "source": [
    "# Predict"
   ]
  },
  {
   "cell_type": "code",
   "execution_count": 18,
   "metadata": {},
   "outputs": [],
   "source": [
    "# mean\n",
    "df_test[col_prediction] = df_train[col_prediction].mean()\n",
    "df_test[[col_prediction]].to_csv(\"./output/mean_subm.csv\", index=True, header=True)"
   ]
  },
  {
   "cell_type": "code",
   "execution_count": 19,
   "metadata": {},
   "outputs": [],
   "source": [
    "linridge1 = Ridge(alpha=20.0).fit(X_train, y_train)\n",
    "\n",
    "df_test[col_prediction] = linridge1.predict(df_test[train_columns])\n",
    "df_test[[col_prediction]].to_csv(\"./output/linridge1.csv\", index=True, header=True)"
   ]
  },
  {
   "cell_type": "code",
   "execution_count": 26,
   "metadata": {},
   "outputs": [],
   "source": [
    "linridge2 = Ridge(alpha=20.0).fit(X_train_scaled, y_train)\n",
    "\n",
    "df_test[col_prediction] = linridge2.predict(df_test_scaled)\n",
    "df_test[[col_prediction]].to_csv(\"./output/linridge2.csv\", index=True, header=True)"
   ]
  },
  {
   "cell_type": "code",
   "execution_count": 27,
   "metadata": {},
   "outputs": [],
   "source": [
    "linridge3 = Ridge(alpha = 20.0).fit(X_train_scaled, y_train)\n",
    "\n",
    "df_test[col_prediction] = linridge3.predict(df_test_scaled)\n",
    "df_test[[col_prediction]].to_csv(\"./output/linridge3.csv\", index=True, header=True)"
   ]
  },
  {
   "cell_type": "code",
   "execution_count": 28,
   "metadata": {},
   "outputs": [],
   "source": [
    "linlasso = Lasso(alpha=500, max_iter = 500).fit(X_train_scaled, y_train)\n",
    "\n",
    "df_test[col_prediction] = linlasso.predict(df_test_scaled)\n",
    "df_test[[col_prediction]].to_csv(\"./output/linlasso1.csv\", index=True, header=True)"
   ]
  },
  {
   "cell_type": "code",
   "execution_count": 29,
   "metadata": {},
   "outputs": [],
   "source": [
    "linlasso2 = Lasso(500, max_iter = 10000).fit(X_train_scaled, y_train)\n",
    "\n",
    "df_test[col_prediction] = linlasso2.predict(df_test_scaled)\n",
    "df_test[[col_prediction]].to_csv(\"./output/linlasso2.csv\", index=True, header=True)"
   ]
  },
  {
   "cell_type": "code",
   "execution_count": null,
   "metadata": {},
   "outputs": [],
   "source": []
  }
 ],
 "metadata": {
  "kernelspec": {
   "display_name": "Python 3",
   "language": "python",
   "name": "python3"
  },
  "language_info": {
   "codemirror_mode": {
    "name": "ipython",
    "version": 3
   },
   "file_extension": ".py",
   "mimetype": "text/x-python",
   "name": "python",
   "nbconvert_exporter": "python",
   "pygments_lexer": "ipython3",
   "version": "3.6.7"
  }
 },
 "nbformat": 4,
 "nbformat_minor": 2
}
