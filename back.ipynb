{
 "cells": [
  {
   "cell_type": "markdown",
   "metadata": {},
   "source": [
    "# Exploring each column"
   ]
  },
  {
   "cell_type": "code",
   "execution_count": null,
   "metadata": {},
   "outputs": [],
   "source": [
    "# imports\n",
    "%matplotlib notebook\n",
    "\n",
    "import pandas as pd\n",
    "import numpy as np\n",
    "\n",
    "import matplotlib.pyplot as plt"
   ]
  },
  {
   "cell_type": "code",
   "execution_count": null,
   "metadata": {},
   "outputs": [],
   "source": [
    "# Create data\n",
    "df = pd.read_csv('./data/train.csv')\n",
    "cols = df.columns\n",
    "\n",
    "df['Alley'] = df['Alley'].fillna('NA')\n",
    "df['MasVnrType'] = df['MasVnrType'].fillna('NA')\n",
    "df['MasVnrArea'] = df['MasVnrArea'].fillna(np.mean(df['MasVnrArea']))\n",
    "df['BsmtQual'] = df['BsmtQual'].fillna('NA')\n",
    "df['BsmtCond'] = df['BsmtCond'].fillna('NA')\n",
    "df['BsmtExposure'] = df['BsmtExposure'].fillna('NA')\n",
    "df['BsmtFinType1'] = df['BsmtFinType1'].fillna('NA')\n",
    "df['BsmtFinType2'] = df['BsmtFinType2'].fillna('NA')\n",
    "df['Electrical'] = df['Electrical'].fillna('NA')\n",
    "df['FireplaceQu'] = df['FireplaceQu'].fillna('NA')\n",
    "df['GarageType'] = df['GarageType'].fillna('NA')\n",
    "df['GarageYrBlt'] = df['GarageYrBlt'].fillna(0)\n",
    "df['GarageFinish'] = df['GarageFinish'].fillna('NA')\n",
    "df['GarageQual'] = df['GarageQual'].fillna('NA')\n",
    "df['GarageCond'] = df['GarageCond'].fillna('NA')\n",
    "df['PoolQC'] = df['PoolQC'].fillna('NA')\n",
    "df['Fence'] = df['Fence'].fillna('NA')\n",
    "df['MiscFeature'] = df['MiscFeature'].fillna('NA')\n"
   ]
  },
  {
   "cell_type": "code",
   "execution_count": null,
   "metadata": {},
   "outputs": [],
   "source": [
    "for i in range(len(cols) - 1):\n",
    "    # create a new figure\n",
    "    plt.figure()\n",
    "\n",
    "    # plot the point (1.5, 1.5) using the circle marker\n",
    "    plt.plot(df[df.columns[i]], df['SalePrice'], 'o')\n",
    "    plt.legend()\n",
    "    plt.xlabel(df.columns[i])\n",
    "    plt.ylabel(\"Price\")"
   ]
  }
 ],
 "metadata": {
  "kernelspec": {
   "display_name": "Python 3",
   "language": "python",
   "name": "python3"
  },
  "language_info": {
   "codemirror_mode": {
    "name": "ipython",
    "version": 3
   },
   "file_extension": ".py",
   "mimetype": "text/x-python",
   "name": "python",
   "nbconvert_exporter": "python",
   "pygments_lexer": "ipython3",
   "version": "3.6.7"
  }
 },
 "nbformat": 4,
 "nbformat_minor": 2
}
